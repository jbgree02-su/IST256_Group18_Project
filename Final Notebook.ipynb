{
 "cells": [
  {
   "cell_type": "code",
   "execution_count": 1,
   "metadata": {},
   "outputs": [],
   "source": [
    "##pip install U-googlemaps for the google maps install for Python\n",
    "import googlemaps #imported googlemaps API wrapper\\n\",\n",
    "import cred ##import separate file with api keys\n",
    "import requests\n",
    "import json"
   ]
  },
  {
   "cell_type": "code",
   "execution_count": 2,
   "metadata": {},
   "outputs": [],
   "source": [
    "def get_exchange_rates(): #fixer api function\n",
    "    url = \"http://data.fixer.io/api/latest?access_key=\" + cred.fixer_api_key()\n",
    "    response = requests.get(url)\n",
    "    data = response.json()\n",
    "    return data"
   ]
  },
  {
   "cell_type": "code",
   "execution_count": 3,
   "metadata": {},
   "outputs": [],
   "source": [
    "def get_exchange_rate(base_currency, target_currency):\n",
    "    if base_currency == target_currency:\n",
    "        return(target_currency)\n",
    "    api_uri = \"https://api.fixer.io/latest?base={}&symbols={}\".format(base_currency, target_currency)\n",
    "    api_response = requests.get(api_uri)\n",
    "    if api_response.status_code == 200:\n",
    "        return api_response.json()[\"rates\"][target_currency]"
   ]
  },
  {
   "cell_type": "markdown",
   "metadata": {},
   "source": [
    "## Test 1"
   ]
  },
  {
   "cell_type": "code",
   "execution_count": 4,
   "metadata": {},
   "outputs": [
    {
     "name": "stdout",
     "output_type": "stream",
     "text": [
      "Current Location Or Exit: Exit\n",
      "Exiting Program\n"
     ]
    }
   ],
   "source": [
    "exchange_rate = get_exchange_rates()\n",
    "gmaps = googlemaps.Client(key=cred.google_maps_api_key())\n",
    "while(True):\n",
    "    user_location = input('Current Location Or Exit: ').title()\n",
    "    geocode_results = gmaps.geocode(user_location)\n",
    "    location_lat = geocode_results[0]['geometry']['location']['lat']\n",
    "    location_lng = geocode_results[0]['geometry']['location']['lng']\n",
    "    if (user_location == 'Exit'):\n",
    "        print(\"Exiting Program\")\n",
    "        break\n",
    "    else:\n",
    "        user_home_currency = input('Input Home Currency Symbol:').upper()\n",
    "    if(user_home_currency in exchange_rate['rates'].keys()):\n",
    "        try:\n",
    "            spending_amount = float(input('How much do you want to spend of your home currency?'))\n",
    "        except:\n",
    "            print(\"Input was not a number\")\n",
    "            continue\n",
    "        rate = get_exchange_rate(user_home_currency, 'USD')\n",
    "        amount = float(spending_amount)*float(rate)\n",
    "        if(amount >= 200):\n",
    "            max_price = 4\n",
    "        elif(amount >= 150):\n",
    "            max_price = 3\n",
    "        elif(amount >= 100):\n",
    "            max_price = 2\n",
    "        elif(amount <= 50):\n",
    "            max_price = 1\n",
    "        else:\n",
    "            max_price=0\n",
    "        if(max_price != 0):\n",
    "            min_price = max_price-1\n",
    "        elif(max_price == 4):\n",
    "            min_price = 4\n",
    "        else:\n",
    "            min_price = 0\n",
    "        place_results = gmaps.places('restaurant',location=(location_lat,location_lng),radius=5,min_price=min_price,max_price=max_price)\n",
    "        for i in range(5):\n",
    "            street_address = place_results['results'][i]['formatted_address']\n",
    "            name = place_results['results'][i]['name']\n",
    "            is_open = place_results['results'][i]['opening_hours']['open_now']\n",
    "            if(is_open == True):\n",
    "                print(name, street_address, 'Is Currently Open')\n",
    "            else:\n",
    "                print(name, street_address, 'Is Currently Closed')\n",
    "    else:\n",
    "        print(\"Currency Not Found. Try Again\")\n",
    "        continue"
   ]
  },
  {
   "cell_type": "markdown",
   "metadata": {},
   "source": [
    "## Test 2"
   ]
  },
  {
   "cell_type": "code",
   "execution_count": 5,
   "metadata": {
    "scrolled": true
   },
   "outputs": [
    {
     "name": "stdout",
     "output_type": "stream",
     "text": [
      "Current Location Or Exit: Kansas City\n",
      "Input Home Currency Symbol: EUR\n",
      "How much do you want to spend of your home currency?100\n",
      "Flying Saucer Draught Emporium 101 E 13th St, Kansas City, MO 64106, USA Is Currently Closed\n",
      "Pizza Bar 1320 Grand Blvd, Kansas City, MO 64106, USA Is Currently Closed\n",
      "Leinenkugel's Kansas City 1323 Walnut St, Kansas City, MO 64106, USA Is Currently Closed\n",
      "Mama Tio's 11th Street Between Walnut And Main, Kansas City, MO 64106, United States Is Currently Open\n",
      "Mixx 1347 Main St, Kansas City, MO 64105, USA Is Currently Open\n",
      "Current Location Or Exit: Exit\n",
      "Exiting Program\n"
     ]
    }
   ],
   "source": [
    "exchange_rate = get_exchange_rates()\n",
    "gmaps = googlemaps.Client(key=cred.google_maps_api_key())\n",
    "while(True):\n",
    "    user_location = input('Current Location Or Exit: ').title()\n",
    "    geocode_results = gmaps.geocode(user_location)\n",
    "    location_lat = geocode_results[0]['geometry']['location']['lat']\n",
    "    location_lng = geocode_results[0]['geometry']['location']['lng']\n",
    "    if (user_location == 'Exit'):\n",
    "        print(\"Exiting Program\")\n",
    "        break\n",
    "    else:\n",
    "        user_home_currency = input('Input Home Currency Symbol: ').upper()\n",
    "    if(user_home_currency in exchange_rate['rates'].keys()):\n",
    "        try:\n",
    "            spending_amount = float(input('How much do you want to spend of your home currency?'))\n",
    "        except:\n",
    "            print(\"Input was not a number\")\n",
    "            continue\n",
    "        rate = get_exchange_rate(user_home_currency, 'USD')\n",
    "        amount = float(spending_amount)*float(rate)\n",
    "        if(amount >= 200):\n",
    "            max_price = 4\n",
    "        elif(amount >= 150):\n",
    "            max_price = 3\n",
    "        elif(amount >= 100):\n",
    "            max_price = 2\n",
    "        elif(amount >= 50):\n",
    "            max_price = 1\n",
    "        else:\n",
    "            max_price=0\n",
    "        if(max_price != 0):\n",
    "            min_price = max_price-1\n",
    "        elif(max_price == 4):\n",
    "            min_price = 4\n",
    "        else:\n",
    "            min_price = 0\n",
    "        place_results = gmaps.places('restaurant',location=(location_lat,location_lng),radius=5,min_price=min_price,max_price=max_price)\n",
    "        for i in range(5):\n",
    "            street_address = place_results['results'][i]['formatted_address']\n",
    "            name = place_results['results'][i]['name']\n",
    "            is_open = place_results['results'][i]['opening_hours']['open_now']\n",
    "            if(is_open == True):\n",
    "                print(name, street_address, 'Is Currently Open')\n",
    "            else:\n",
    "                print(name, street_address, 'Is Currently Closed')\n",
    "    else:\n",
    "        print(\"Currency Not Found. Try Again\")\n",
    "        continue"
   ]
  },
  {
   "cell_type": "markdown",
   "metadata": {},
   "source": [
    "## Test 3:"
   ]
  },
  {
   "cell_type": "code",
   "execution_count": 6,
   "metadata": {},
   "outputs": [
    {
     "name": "stdout",
     "output_type": "stream",
     "text": [
      "Welcome To USA Eats! \n",
      "\n",
      "This program is designed to make searching for restaurants for any budget within any city in the United States\n",
      "easy for foreigners to find!\n",
      "\n",
      "Follow the instructions below to receive suggestions on what to eat in an area near you!\n",
      "\n",
      "Enter your current location or type Exit to quit: Syracuse\n",
      "Input Home Currency Symbol: AUD\n",
      "How much do you want to spend of your home currency? 100\n",
      "The Mission Restaurant 304 E Onondaga St, Syracuse, NY 13202, USA Is Currently Closed\n",
      "Prime Steak House 101 E Water St, Syracuse, NY 13202, USA Is Currently Closed\n",
      "Modern Malt 325 S Clinton St, Syracuse, NY 13202, USA Is Currently Open\n",
      "Original Italian Pizza 489 James St # 1, Syracuse, NY 13203, USA Is Currently Open\n",
      "Lemon Grass Restaurant 238 W Jefferson St, Syracuse, NY 13202, USA Is Currently Closed\n",
      "Enter your current location or type Exit to quit: Exit\n",
      "Exiting Program\n"
     ]
    }
   ],
   "source": [
    "print('Welcome To USA Eats! \\n')\n",
    "print('This program is designed to make searching for restaurants for any budget within any city in the United States\\neasy for foreigners to find!\\n')\n",
    "print('Follow the instructions below to receive suggestions on what to eat in an area near you!\\n')\n",
    "exchange_rate = get_exchange_rates()\n",
    "gmaps = googlemaps.Client(key=cred.google_maps_api_key())\n",
    "while(True):\n",
    "    user_location = input('Enter your current location or type Exit to quit: ').title()\n",
    "    geocode_results = gmaps.geocode(user_location)\n",
    "    location_lat = geocode_results[0]['geometry']['location']['lat']\n",
    "    location_lng = geocode_results[0]['geometry']['location']['lng']\n",
    "    if (user_location == 'Exit'):\n",
    "        print(\"Exiting Program\")\n",
    "        break\n",
    "    else:\n",
    "        user_home_currency = input('Input Home Currency Symbol: ').upper()\n",
    "    if(user_home_currency in exchange_rate['rates'].keys()):\n",
    "        try:\n",
    "            spending_amount = float(input('How much do you want to spend of your home currency? '))\n",
    "        except:\n",
    "            print(\"Input was not a number\")\n",
    "            continue\n",
    "        rate = get_exchange_rate(user_home_currency, 'USD')\n",
    "        amount = float(spending_amount)*float(rate)\n",
    "        if(amount >= 100):\n",
    "            max_price = 3\n",
    "        elif(amount >= 75):\n",
    "            max_price = 3\n",
    "        elif(amount >= 50):\n",
    "            max_price = 2\n",
    "        elif(amount >=25):\n",
    "            max_price = 1\n",
    "        elif(amount < 25):\n",
    "            max_price = 1\n",
    "        \n",
    "        if(max_price != 0):\n",
    "            min_price = max_price-1\n",
    "        elif(max_price == 4):\n",
    "            min_price = 4\n",
    "        else:\n",
    "            min_price = 0\n",
    "        place_results = gmaps.places('restaurant',location=(location_lat,location_lng),radius=1,min_price=min_price,max_price=max_price)\n",
    "        for i in range(5):\n",
    "            street_address = place_results['results'][i]['formatted_address']\n",
    "            name = place_results['results'][i]['name']\n",
    "            is_open = place_results['results'][i]['opening_hours']['open_now']\n",
    "            if(is_open == True):\n",
    "                print(name, street_address, 'Is Currently Open')\n",
    "            else:\n",
    "                print(name, street_address, 'Is Currently Closed')\n",
    "    else:\n",
    "        print(\"Currency Not Found. Try Again\")\n",
    "        continue"
   ]
  },
  {
   "cell_type": "markdown",
   "metadata": {},
   "source": [
    "## Final Program:"
   ]
  },
  {
   "cell_type": "code",
   "execution_count": 22,
   "metadata": {},
   "outputs": [
    {
     "ename": "SyntaxError",
     "evalue": "invalid syntax (<ipython-input-22-dd3188b161a6>, line 52)",
     "output_type": "error",
     "traceback": [
      "\u001b[0;36m  File \u001b[0;32m\"<ipython-input-22-dd3188b161a6>\"\u001b[0;36m, line \u001b[0;32m52\u001b[0m\n\u001b[0;31m    else(is_open == False):\u001b[0m\n\u001b[0m        ^\u001b[0m\n\u001b[0;31mSyntaxError\u001b[0m\u001b[0;31m:\u001b[0m invalid syntax\n"
     ]
    }
   ],
   "source": [
    "print('Welcome To USA Eats! \\n')\n",
    "print('This program is designed to make searching for restaurants for any budget within any city in the United States\\neasy for foreigners to find!\\n')\n",
    "print('Follow the instructions below to receive suggestions on what to eat in an area near you!\\n')\n",
    "exchange_rate = get_exchange_rates()\n",
    "gmaps = googlemaps.Client(key=cred.google_maps_api_key())\n",
    "\n",
    "while(True):\n",
    "    user_location = input(\"Enter your current location or type 'Exit' to quit:\\n\").title()\n",
    "    geocode_results = gmaps.geocode(user_location)\n",
    "    location_lat = geocode_results[0]['geometry']['location']['lat']\n",
    "    location_lng = geocode_results[0]['geometry']['location']['lng']\n",
    "    if (user_location == 'Exit'):\n",
    "        print(\"Exiting Program\")\n",
    "        break\n",
    "    else:\n",
    "        user_home_currency = input('Input Home Currency Symbol:\\n').upper()\n",
    "    if(user_home_currency in exchange_rate['rates'].keys()):\n",
    "        try:\n",
    "            spending_amount = float(input('How much do you want to spend of your home currency?\\n'))\n",
    "        except:\n",
    "            print(\"Input was not a number\")\n",
    "            continue\n",
    "        rate = get_exchange_rate(user_home_currency, 'USD')\n",
    "        amount = float(spending_amount)*float(rate)\n",
    "        if(amount >= 100):\n",
    "            max_price = 3\n",
    "        elif(amount >= 75):\n",
    "            max_price = 3\n",
    "        elif(amount >= 50):\n",
    "            max_price = 2\n",
    "        elif(amount >=25):\n",
    "            max_price = 1\n",
    "        elif(amount < 25):\n",
    "            max_price = 1\n",
    "        \n",
    "        if(max_price != 0):\n",
    "            min_price = max_price-1\n",
    "        elif(max_price == 4):\n",
    "            min_price = 4\n",
    "        else:\n",
    "            min_price = 0\n",
    "        place_results = gmaps.places('restaurant',location=(location_lat,location_lng),radius=1,min_price=min_price,max_price=max_price)\n",
    "        for i in range(5):\n",
    "            street_address = place_results['results'][i]['formatted_address']\n",
    "            name = place_results['results'][i]['name']\n",
    "            if('open_now' in place_results['results'][i].values()):\n",
    "                is_open = place_results['results'][i]['opening_hours']['open_now']\n",
    "            else:\n",
    "                is_open = \"Unknown\"\n",
    "            if(is_open == True):\n",
    "                print(name, street_address, 'Is Currently Open\\n\\n')\n",
    "            else(is_open == False):\n",
    "                print(name, street_address, 'Is Currently Closed\\n\\n')\n",
    "            else:\n",
    "                print(name, street_address, 'Hours Are Unknown\\n\\n')\n",
    "    else:\n",
    "        print(\"Currency Not Found. Try Again\")\n",
    "        continue"
   ]
  },
  {
   "cell_type": "code",
   "execution_count": 21,
   "metadata": {},
   "outputs": [
    {
     "data": {
      "text/plain": [
       "False"
      ]
     },
     "execution_count": 21,
     "metadata": {},
     "output_type": "execute_result"
    }
   ],
   "source": [
    "if('open_now' in place_results['results'][i].values()):\n",
    "    is_open = place_results['results'][i]['opening_hours']['open_now']\n",
    "else:\n",
    "    is_open = \"Unknown\""
   ]
  },
  {
   "cell_type": "code",
   "execution_count": null,
   "metadata": {},
   "outputs": [],
   "source": []
  }
 ],
 "metadata": {
  "kernelspec": {
   "display_name": "Python 3",
   "language": "python",
   "name": "python3"
  },
  "language_info": {
   "codemirror_mode": {
    "name": "ipython",
    "version": 3
   },
   "file_extension": ".py",
   "mimetype": "text/x-python",
   "name": "python",
   "nbconvert_exporter": "python",
   "pygments_lexer": "ipython3",
   "version": "3.6.3"
  }
 },
 "nbformat": 4,
 "nbformat_minor": 2
}
