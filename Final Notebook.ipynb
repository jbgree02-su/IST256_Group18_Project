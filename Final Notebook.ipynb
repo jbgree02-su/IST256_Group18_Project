{
 "cells": [
  {
   "cell_type": "markdown",
   "metadata": {},
   "source": [
    "Ran \"Pip install -U googlemaps\" in terminal"
   ]
  },
  {
   "cell_type": "code",
   "execution_count": 1,
   "metadata": {},
   "outputs": [],
   "source": [
    "import googlemaps #imported googlemaps API wrapper\n",
    "import cred\n",
    "import requests\n",
    "import json"
   ]
  },
  {
   "cell_type": "code",
   "execution_count": 2,
   "metadata": {},
   "outputs": [],
   "source": [
    "def get_exchange_rates():\n",
    "    url = \"http://data.fixer.io/api/latest?access_key=\"+cred.fixer_api_key()\n",
    "    response = requests.get(url)\n",
    "    data = response.json()\n",
    "    return data"
   ]
  },
  {
   "cell_type": "code",
   "execution_count": 3,
   "metadata": {
    "scrolled": true
   },
   "outputs": [
    {
     "data": {
      "text/plain": [
       "[{'address_components': [{'long_name': 'Google Building 41',\n",
       "    'short_name': 'Google Building 41',\n",
       "    'types': ['premise']},\n",
       "   {'long_name': '1600', 'short_name': '1600', 'types': ['street_number']},\n",
       "   {'long_name': 'Amphitheatre Parkway',\n",
       "    'short_name': 'Amphitheatre Pkwy',\n",
       "    'types': ['route']},\n",
       "   {'long_name': 'Mountain View',\n",
       "    'short_name': 'Mountain View',\n",
       "    'types': ['locality', 'political']},\n",
       "   {'long_name': 'Santa Clara County',\n",
       "    'short_name': 'Santa Clara County',\n",
       "    'types': ['administrative_area_level_2', 'political']},\n",
       "   {'long_name': 'California',\n",
       "    'short_name': 'CA',\n",
       "    'types': ['administrative_area_level_1', 'political']},\n",
       "   {'long_name': 'United States',\n",
       "    'short_name': 'US',\n",
       "    'types': ['country', 'political']},\n",
       "   {'long_name': '94043', 'short_name': '94043', 'types': ['postal_code']}],\n",
       "  'formatted_address': 'Google Building 41, 1600 Amphitheatre Pkwy, Mountain View, CA 94043, USA',\n",
       "  'geometry': {'bounds': {'northeast': {'lat': 37.4228775, 'lng': -122.085133},\n",
       "    'southwest': {'lat': 37.4221145, 'lng': -122.0860002}},\n",
       "   'location': {'lat': 37.4224082, 'lng': -122.0856086},\n",
       "   'location_type': 'ROOFTOP',\n",
       "   'viewport': {'northeast': {'lat': 37.4238449802915,\n",
       "     'lng': -122.0842176197085},\n",
       "    'southwest': {'lat': 37.4211470197085, 'lng': -122.0869155802915}}},\n",
       "  'place_id': 'ChIJxQvW8wK6j4AR3ukttGy3w2s',\n",
       "  'types': ['premise']}]"
      ]
     },
     "execution_count": 3,
     "metadata": {},
     "output_type": "execute_result"
    }
   ],
   "source": [
    "# API Test\n",
    "gmaps = googlemaps.Client(key=cred.google_maps_api_key())\n",
    "geocode_results = gmaps.geocode('1600 Amphitheatre Parkway, Mountain View, CA')\n",
    "geocode_results"
   ]
  },
  {
   "cell_type": "code",
   "execution_count": 5,
   "metadata": {
    "scrolled": true
   },
   "outputs": [
    {
     "name": "stdout",
     "output_type": "stream",
     "text": [
      "Input Currency Symbbol:Exit\n",
      "Exiting Program\n"
     ]
    }
   ],
   "source": [
    "exchange_rates = get_exchange_rates()\n",
    "while(True):\n",
    "    user_currency_input = input('Input Currency Symbbol:')\n",
    "    if user_currency_input == 'Exit':\n",
    "        print(\"Exiting Program\")\n",
    "        break\n",
    "    elif user_currency_input in exchange_rates['rates'].keys():\n",
    "        print(\"Currency Found\")\n",
    "    else:\n",
    "        print(\"Currency Not Found\")\n",
    "        continue"
   ]
  },
  {
   "cell_type": "code",
   "execution_count": null,
   "metadata": {},
   "outputs": [],
   "source": []
  }
 ],
 "metadata": {
  "kernelspec": {
   "display_name": "Python 3",
   "language": "python",
   "name": "python3"
  },
  "language_info": {
   "codemirror_mode": {
    "name": "ipython",
    "version": 3
   },
   "file_extension": ".py",
   "mimetype": "text/x-python",
   "name": "python",
   "nbconvert_exporter": "python",
   "pygments_lexer": "ipython3",
   "version": "3.6.3"
  }
 },
 "nbformat": 4,
 "nbformat_minor": 2
}
