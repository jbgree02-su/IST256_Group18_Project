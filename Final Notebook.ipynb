{
 "cells": [
  {
   "cell_type": "markdown",
   "metadata": {},
   "source": [
    "Ran \"Pip install -U googlemaps\" in terminal"
   ]
  },
  {
   "cell_type": "code",
   "execution_count": 1,
   "metadata": {},
   "outputs": [
    {
     "ename": "ModuleNotFoundError",
     "evalue": "No module named 'cred'",
     "output_type": "error",
     "traceback": [
      "\u001b[0;31m---------------------------------------------------------------------------\u001b[0m",
      "\u001b[0;31mModuleNotFoundError\u001b[0m                       Traceback (most recent call last)",
      "\u001b[0;32m<ipython-input-1-6426248c83cb>\u001b[0m in \u001b[0;36m<module>\u001b[0;34m()\u001b[0m\n\u001b[1;32m      1\u001b[0m \u001b[0;32mimport\u001b[0m \u001b[0mgooglemaps\u001b[0m \u001b[0;31m#imported googlemaps API wrapper\u001b[0m\u001b[0;34m\u001b[0m\u001b[0m\n\u001b[0;32m----> 2\u001b[0;31m \u001b[0;32mimport\u001b[0m \u001b[0mcred\u001b[0m\u001b[0;34m\u001b[0m\u001b[0m\n\u001b[0m\u001b[1;32m      3\u001b[0m \u001b[0;32mimport\u001b[0m \u001b[0mrequests\u001b[0m\u001b[0;34m\u001b[0m\u001b[0m\n\u001b[1;32m      4\u001b[0m \u001b[0;32mimport\u001b[0m \u001b[0mjson\u001b[0m\u001b[0;34m\u001b[0m\u001b[0m\n",
      "\u001b[0;31mModuleNotFoundError\u001b[0m: No module named 'cred'"
     ]
    }
   ],
   "source": [
    "import googlemaps #imported googlemaps API wrapper\n",
    "import cred\n",
    "import requests\n",
    "import json"
   ]
  },
  {
   "cell_type": "code",
   "execution_count": 3,
   "metadata": {},
   "outputs": [],
   "source": [
    "def get_exchange_rates():\n",
    "    url = \"http://data.fixer.io/api/latest?access_key=\"+cred.fixer_api_key()\n",
    "    response = requests.get(url)\n",
    "    data = response.json()\n",
    "    return data"
   ]
  },
  {
   "cell_type": "code",
   "execution_count": 3,
   "metadata": {
    "scrolled": true
   },
   "outputs": [
    {
     "data": {
      "text/plain": [
       "[{'address_components': [{'long_name': 'Google Building 41',\n",
       "    'short_name': 'Google Building 41',\n",
       "    'types': ['premise']},\n",
       "   {'long_name': '1600', 'short_name': '1600', 'types': ['street_number']},\n",
       "   {'long_name': 'Amphitheatre Parkway',\n",
       "    'short_name': 'Amphitheatre Pkwy',\n",
       "    'types': ['route']},\n",
       "   {'long_name': 'Mountain View',\n",
       "    'short_name': 'Mountain View',\n",
       "    'types': ['locality', 'political']},\n",
       "   {'long_name': 'Santa Clara County',\n",
       "    'short_name': 'Santa Clara County',\n",
       "    'types': ['administrative_area_level_2', 'political']},\n",
       "   {'long_name': 'California',\n",
       "    'short_name': 'CA',\n",
       "    'types': ['administrative_area_level_1', 'political']},\n",
       "   {'long_name': 'United States',\n",
       "    'short_name': 'US',\n",
       "    'types': ['country', 'political']},\n",
       "   {'long_name': '94043', 'short_name': '94043', 'types': ['postal_code']}],\n",
       "  'formatted_address': 'Google Building 41, 1600 Amphitheatre Pkwy, Mountain View, CA 94043, USA',\n",
       "  'geometry': {'bounds': {'northeast': {'lat': 37.4228775, 'lng': -122.085133},\n",
       "    'southwest': {'lat': 37.4221145, 'lng': -122.0860002}},\n",
       "   'location': {'lat': 37.4224082, 'lng': -122.0856086},\n",
       "   'location_type': 'ROOFTOP',\n",
       "   'viewport': {'northeast': {'lat': 37.4238449802915,\n",
       "     'lng': -122.0842176197085},\n",
       "    'southwest': {'lat': 37.4211470197085, 'lng': -122.0869155802915}}},\n",
       "  'place_id': 'ChIJxQvW8wK6j4AR3ukttGy3w2s',\n",
       "  'types': ['premise']}]"
      ]
     },
     "execution_count": 3,
     "metadata": {},
     "output_type": "execute_result"
    }
   ],
   "source": [
    "# API Test\n",
    "gmaps = googlemaps.Client(key=cred.google_maps_api_key())\n",
    "geocode_results = gmaps.geocode('1600 Amphitheatre Parkway, Mountain View, CA')\n",
    "geocode_results"
   ]
  },
  {
   "cell_type": "code",
   "execution_count": 5,
   "metadata": {
    "scrolled": true
   },
   "outputs": [
    {
     "name": "stdout",
     "output_type": "stream",
     "text": [
      "Input Currency Symbbol:Exit\n",
      "Exiting Program\n"
     ]
    }
   ],
   "source": [
    "exchange_rates = get_exchange_rates()\n",
    "while(True):\n",
    "    user_currency_input = input('Input Currency Symbbol:')\n",
    "    if user_currency_input == 'Exit':\n",
    "        print(\"Exiting Program\")\n",
    "        break\n",
    "    elif user_currency_input in exchange_rates['rates'].keys():\n",
    "        print(\"Currency Found\")\n",
    "    else:\n",
    "        print(\"Currency Not Found\")\n",
    "        continue"
   ]
  },
  {
   "cell_type": "code",
   "execution_count": 4,
   "metadata": {},
   "outputs": [
    {
     "name": "stdout",
     "output_type": "stream",
     "text": [
      "TESTING\n"
     ]
    }
   ],
   "source": [
    "print(\"TESTING\")"
   ]
  },
  {
   "cell_type": "code",
   "execution_count": 4,
   "metadata": {},
   "outputs": [
    {
     "name": "stdout",
     "output_type": "stream",
     "text": [
      "Enter the amount you wish to convert: 57.85\n",
      "Choose a base currency among our supported currencies:\n",
      "code 1: base EUR\n",
      "code 2: base USD\n",
      "code 3: base GBP\n",
      "Please digit the code: 2\n",
      "Choose a target currency among our supported currencies:\n",
      "code 1: target EUR\n",
      "code 2: target USD\n",
      "code 3: target GBP\n",
      "Please digit the code: 1\n",
      "57.85 USD is 46.815691 EUR\n"
     ]
    }
   ],
   "source": [
    "import requests\n",
    "supportedcurrencies = {\n",
    "    \"EUR\": \"European euro\",\n",
    "    \"USD\": \"US dollar\",\n",
    "    \"GBP\": \"Pound sterling\"\n",
    "}\n",
    "\n",
    "\n",
    "currencycodes = {\n",
    "    1: \"EUR\",\n",
    "    2: \"USD\",\n",
    "    3: \"GBP\"\n",
    "}\n",
    "\n",
    "\n",
    "def get_exchange_rate(base_currency, target_currency):\n",
    "    if not (base_currency in supportedcurrencies.keys()):\n",
    "        raise ValueError(\"base currency {} not supported\".format(base_currency))\n",
    "    if not (target_currency in supportedcurrencies.keys()):\n",
    "        raise ValueError(\"target currency {} not supported\".format(target_currency))\n",
    "\n",
    "    if base_currency == target_currency:\n",
    "        return 1\n",
    "\n",
    "    api_uri = \"https://api.fixer.io/latest?base={}&symbols={}\".format(base_currency, target_currency)\n",
    "    api_response = requests.get(api_uri)\n",
    "\n",
    "    if api_response.status_code == 200:\n",
    "        return api_response.json()[\"rates\"][target_currency]\n",
    "\n",
    "\n",
    "if __name__ == '__main__':\n",
    "    amount = float(input(\"Enter the amount you wish to convert: \"))\n",
    "\n",
    "    print(\"Choose a base currency among our supported currencies:\")\n",
    "    while True:\n",
    "        for code, currency in currencycodes.items():\n",
    "            print(\"code {}: base {}\".format(code, currency))\n",
    "        base_currency_code = int(input(\"Please digit the code: \"))\n",
    "        if base_currency_code in currencycodes.keys():\n",
    "            break\n",
    "        else:\n",
    "            print(\"Invalid code\")\n",
    "    base_currency = currencycodes[base_currency_code]\n",
    "\n",
    "    print(\"Choose a target currency among our supported currencies:\")\n",
    "    while True:\n",
    "        for code, currency in currencycodes.items():\n",
    "            print(\"code {}: target {}\".format(code, currency))\n",
    "        target_currency_code = int(input(\"Please digit the code: \"))\n",
    "        if target_currency_code in currencycodes.keys():\n",
    "            break\n",
    "        else:\n",
    "            print(\"Invalid code\")\n",
    "    target_currency = currencycodes[target_currency_code]\n",
    "\n",
    "    exchange_rate = get_exchange_rate(base_currency, target_currency)\n",
    "\n",
    "    print(\"{} {} is {} {}\".format(amount, base_currency, amount * exchange_rate, target_currency))"
   ]
  },
  {
   "cell_type": "code",
   "execution_count": null,
   "metadata": {},
   "outputs": [],
   "source": []
  }
 ],
 "metadata": {
  "kernelspec": {
   "display_name": "Python 3",
   "language": "python",
   "name": "python3"
  },
  "language_info": {
   "codemirror_mode": {
    "name": "ipython",
    "version": 3
   },
   "file_extension": ".py",
   "mimetype": "text/x-python",
   "name": "python",
   "nbconvert_exporter": "python",
   "pygments_lexer": "ipython3",
   "version": "3.6.5"
  }
 },
 "nbformat": 4,
 "nbformat_minor": 2
}
