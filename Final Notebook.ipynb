{
 "cells": [
  {
   "cell_type": "markdown",
   "metadata": {},
   "source": [
    "Ran \"Pip install -U googlemaps\" in terminal"
   ]
  },
  {
   "cell_type": "code",
   "execution_count": 11,
   "metadata": {
    "scrolled": true
   },
   "outputs": [
    {
     "data": {
      "text/plain": [
       "{'base': 'EUR',\n",
       " 'date': '2018-05-03',\n",
       " 'rates': {'AED': 4.40531,\n",
       "  'AFN': 84.383082,\n",
       "  'ALL': 127.612172,\n",
       "  'AMD': 580.797904,\n",
       "  'ANG': 2.135365,\n",
       "  'AOA': 274.505906,\n",
       "  'ARS': 26.687931,\n",
       "  'AUD': 1.592064,\n",
       "  'AWG': 2.135066,\n",
       "  'AZN': 2.038512,\n",
       "  'BAM': 1.959342,\n",
       "  'BBD': 2.398951,\n",
       "  'BDT': 101.283693,\n",
       "  'BGN': 1.956219,\n",
       "  'BHD': 0.451843,\n",
       "  'BIF': 2099.081703,\n",
       "  'BMD': 1.199475,\n",
       "  'BND': 1.579705,\n",
       "  'BOB': 8.228529,\n",
       "  'BRL': 4.226111,\n",
       "  'BSD': 1.187481,\n",
       "  'BTC': 0.000124,\n",
       "  'BTN': 79.7835,\n",
       "  'BWP': 11.881761,\n",
       "  'BYN': 2.423087,\n",
       "  'BYR': 23509.715078,\n",
       "  'BZD': 2.396313,\n",
       "  'CAD': 1.541289,\n",
       "  'CDF': 1877.735506,\n",
       "  'CHF': 1.196861,\n",
       "  'CLF': 0.02718,\n",
       "  'CLP': 742.235276,\n",
       "  'CNY': 7.617875,\n",
       "  'COP': 3426.421143,\n",
       "  'CRC': 675.30469,\n",
       "  'CUC': 1.199475,\n",
       "  'CUP': 31.786094,\n",
       "  'CVE': 110.315741,\n",
       "  'CZK': 25.512354,\n",
       "  'DJF': 212.103212,\n",
       "  'DKK': 7.453072,\n",
       "  'DOP': 59.362033,\n",
       "  'DZD': 138.293498,\n",
       "  'EGP': 21.086331,\n",
       "  'ERN': 17.980835,\n",
       "  'ETB': 32.649715,\n",
       "  'EUR': 1,\n",
       "  'FJD': 2.479334,\n",
       "  'FKP': 0.881374,\n",
       "  'GBP': 0.883449,\n",
       "  'GEL': 2.934281,\n",
       "  'GGP': 0.883535,\n",
       "  'GHS': 5.365852,\n",
       "  'GIP': 0.881618,\n",
       "  'GMD': 56.147438,\n",
       "  'GNF': 10797.67647,\n",
       "  'GTQ': 8.799314,\n",
       "  'GYD': 248.159435,\n",
       "  'HKD': 9.415158,\n",
       "  'HNL': 28.312457,\n",
       "  'HRK': 7.409399,\n",
       "  'HTG': 75.722874,\n",
       "  'HUF': 313.782735,\n",
       "  'IDR': 16714.687735,\n",
       "  'ILS': 4.336822,\n",
       "  'IMP': 0.883535,\n",
       "  'INR': 79.975254,\n",
       "  'IQD': 1420.178707,\n",
       "  'IRR': 50377.960645,\n",
       "  'ISK': 121.998627,\n",
       "  'JEP': 0.883535,\n",
       "  'JMD': 148.531024,\n",
       "  'JOD': 0.849828,\n",
       "  'JPY': 130.943099,\n",
       "  'KES': 119.887549,\n",
       "  'KGS': 82.631731,\n",
       "  'KHR': 4818.172051,\n",
       "  'KMF': 491.556954,\n",
       "  'KPW': 1079.527826,\n",
       "  'KRW': 1289.160048,\n",
       "  'KWD': 0.360928,\n",
       "  'KYD': 0.983237,\n",
       "  'KZT': 395.658891,\n",
       "  'LAK': 9959.242975,\n",
       "  'LBP': 1805.210092,\n",
       "  'LKR': 189.205233,\n",
       "  'LRD': 157.874928,\n",
       "  'LSL': 15.227363,\n",
       "  'LTL': 3.656842,\n",
       "  'LVL': 0.744334,\n",
       "  'LYD': 1.614737,\n",
       "  'MAD': 11.192064,\n",
       "  'MDL': 19.872907,\n",
       "  'MGA': 3832.323072,\n",
       "  'MKD': 61.257015,\n",
       "  'MMK': 1597.700816,\n",
       "  'MNT': 2871.544437,\n",
       "  'MOP': 9.697154,\n",
       "  'MRO': 423.415028,\n",
       "  'MUR': 41.142,\n",
       "  'MVR': 18.67636,\n",
       "  'MWK': 855.741626,\n",
       "  'MXN': 22.864638,\n",
       "  'MYR': 4.715165,\n",
       "  'MZN': 70.649095,\n",
       "  'NAD': 15.103822,\n",
       "  'NGN': 429.41254,\n",
       "  'NIO': 37.544655,\n",
       "  'NOK': 9.646972,\n",
       "  'NPR': 127.384269,\n",
       "  'NZD': 1.702297,\n",
       "  'OMR': 0.461557,\n",
       "  'PAB': 1.199475,\n",
       "  'PEN': 3.923489,\n",
       "  'PGK': 3.897692,\n",
       "  'PHP': 62.108828,\n",
       "  'PKR': 138.543303,\n",
       "  'PLN': 4.26558,\n",
       "  'PYG': 6661.88588,\n",
       "  'QAR': 4.36585,\n",
       "  'RON': 4.658407,\n",
       "  'RSD': 117.892107,\n",
       "  'RUB': 75.484151,\n",
       "  'RWF': 1015.247822,\n",
       "  'SAR': 4.497768,\n",
       "  'SBD': 9.223729,\n",
       "  'SCR': 16.109582,\n",
       "  'SDG': 21.650767,\n",
       "  'SEK': 10.56878,\n",
       "  'SGD': 1.596034,\n",
       "  'SHP': 0.881593,\n",
       "  'SLL': 9151.996183,\n",
       "  'SOS': 684.900693,\n",
       "  'SRD': 8.89976,\n",
       "  'STD': 24511.637698,\n",
       "  'SVC': 10.495706,\n",
       "  'SYP': 617.705744,\n",
       "  'SZL': 15.10295,\n",
       "  'THB': 37.927409,\n",
       "  'TJS': 10.762535,\n",
       "  'TMT': 4.090211,\n",
       "  'TND': 2.951553,\n",
       "  'TOP': 2.653601,\n",
       "  'TRY': 5.056386,\n",
       "  'TTD': 7.975913,\n",
       "  'TWD': 35.589639,\n",
       "  'TZS': 2730.005588,\n",
       "  'UAH': 31.426253,\n",
       "  'UGX': 4446.454486,\n",
       "  'USD': 1.199475,\n",
       "  'UYU': 34.700942,\n",
       "  'UZS': 9649.778139,\n",
       "  'VEF': 82556.283747,\n",
       "  'VND': 27301.256372,\n",
       "  'VUV': 128.559974,\n",
       "  'WST': 3.083608,\n",
       "  'XAF': 655.633148,\n",
       "  'XAG': 0.072874,\n",
       "  'XAU': 0.000913,\n",
       "  'XCD': 3.240684,\n",
       "  'XDR': 0.837891,\n",
       "  'XOF': 655.633148,\n",
       "  'XPF': 119.379514,\n",
       "  'YER': 299.74886,\n",
       "  'ZAR': 15.106669,\n",
       "  'ZMK': 10796.715706,\n",
       "  'ZMW': 11.910758,\n",
       "  'ZWL': 386.65686},\n",
       " 'success': True,\n",
       " 'timestamp': 1525375209}"
      ]
     },
     "execution_count": 11,
     "metadata": {},
     "output_type": "execute_result"
    }
   ],
   "source": [
    "get_exchange_rates()"
   ]
  },
  {
   "cell_type": "code",
   "execution_count": 12,
   "metadata": {
    "scrolled": true
   },
   "outputs": [
    {
     "data": {
      "text/plain": [
       "[{'address_components': [{'long_name': 'Google Building 41',\n",
       "    'short_name': 'Google Building 41',\n",
       "    'types': ['premise']},\n",
       "   {'long_name': '1600', 'short_name': '1600', 'types': ['street_number']},\n",
       "   {'long_name': 'Amphitheatre Parkway',\n",
       "    'short_name': 'Amphitheatre Pkwy',\n",
       "    'types': ['route']},\n",
       "   {'long_name': 'Mountain View',\n",
       "    'short_name': 'Mountain View',\n",
       "    'types': ['locality', 'political']},\n",
       "   {'long_name': 'Santa Clara County',\n",
       "    'short_name': 'Santa Clara County',\n",
       "    'types': ['administrative_area_level_2', 'political']},\n",
       "   {'long_name': 'California',\n",
       "    'short_name': 'CA',\n",
       "    'types': ['administrative_area_level_1', 'political']},\n",
       "   {'long_name': 'United States',\n",
       "    'short_name': 'US',\n",
       "    'types': ['country', 'political']},\n",
       "   {'long_name': '94043', 'short_name': '94043', 'types': ['postal_code']}],\n",
       "  'formatted_address': 'Google Building 41, 1600 Amphitheatre Pkwy, Mountain View, CA 94043, USA',\n",
       "  'geometry': {'bounds': {'northeast': {'lat': 37.4228775, 'lng': -122.085133},\n",
       "    'southwest': {'lat': 37.4221145, 'lng': -122.0860002}},\n",
       "   'location': {'lat': 37.4224082, 'lng': -122.0856086},\n",
       "   'location_type': 'ROOFTOP',\n",
       "   'viewport': {'northeast': {'lat': 37.4238449802915,\n",
       "     'lng': -122.0842176197085},\n",
       "    'southwest': {'lat': 37.4211470197085, 'lng': -122.0869155802915}}},\n",
       "  'place_id': 'ChIJxQvW8wK6j4AR3ukttGy3w2s',\n",
       "  'types': ['premise']}]"
      ]
     },
     "execution_count": 12,
     "metadata": {},
     "output_type": "execute_result"
    }
   ],
   "source": [
    "# API Test\n",
    "gmaps = googlemaps.Client(key=cred.google_maps_api_key())\n",
    "geocode_results = gmaps.geocode('1600 Amphitheatre Parkway, Mountain View, CA')\n",
    "geocode_results"
   ]
  },
  {
   "cell_type": "code",
   "execution_count": 13,
   "metadata": {},
   "outputs": [
    {
     "data": {
      "text/plain": [
       "[{'address_components': [{'long_name': '235',\n",
       "    'short_name': '235',\n",
       "    'types': ['street_number']},\n",
       "   {'long_name': 'Prospect Avenue',\n",
       "    'short_name': 'Prospect Ave',\n",
       "    'types': ['route']},\n",
       "   {'long_name': 'West Orange',\n",
       "    'short_name': 'West Orange',\n",
       "    'types': ['locality', 'political']},\n",
       "   {'long_name': 'Essex County',\n",
       "    'short_name': 'Essex County',\n",
       "    'types': ['administrative_area_level_2', 'political']},\n",
       "   {'long_name': 'New Jersey',\n",
       "    'short_name': 'NJ',\n",
       "    'types': ['administrative_area_level_1', 'political']},\n",
       "   {'long_name': 'United States',\n",
       "    'short_name': 'US',\n",
       "    'types': ['country', 'political']},\n",
       "   {'long_name': '07052', 'short_name': '07052', 'types': ['postal_code']}],\n",
       "  'formatted_address': '235 Prospect Ave, West Orange, NJ 07052, USA',\n",
       "  'geometry': {'location': {'lat': 40.8039397, 'lng': -74.248993},\n",
       "   'location_type': 'ROOFTOP',\n",
       "   'viewport': {'northeast': {'lat': 40.8052886802915,\n",
       "     'lng': -74.24764401970849},\n",
       "    'southwest': {'lat': 40.8025907197085, 'lng': -74.25034198029151}}},\n",
       "  'place_id': 'ChIJFTuvIO-qw4kRw8l88oQNFwA',\n",
       "  'types': ['establishment', 'food', 'point_of_interest', 'restaurant']}]"
      ]
     },
     "execution_count": 13,
     "metadata": {},
     "output_type": "execute_result"
    }
   ],
   "source": [
    "# API Test\n",
    "gmaps = googlemaps.Client(key=cred.google_maps_api_key())\n",
    "geocode_results = gmaps.geocode('Chipotle, West Orange, NJ')\n",
    "geocode_results"
   ]
  },
  {
   "cell_type": "code",
   "execution_count": 16,
   "metadata": {},
   "outputs": [],
   "source": [
    "import googlemaps #imported googlemaps API wrapper\n",
    "import cred\n",
    "import requests\n",
    "import json"
   ]
  },
  {
   "cell_type": "code",
   "execution_count": 17,
   "metadata": {},
   "outputs": [],
   "source": [
    "def get_exchange_rates():\n",
    "    url = \"http://data.fixer.io/api/latest?access_key=\"+cred.fixer_api_key()\n",
    "    response = requests.get(url)\n",
    "    data = response.json()\n",
    "    return data"
   ]
  },
  {
   "cell_type": "code",
   "execution_count": 18,
   "metadata": {},
   "outputs": [],
   "source": [
    "def get_exchange_rate(base_currency, target_currency):\n",
    "    if base_currency == target_currency:\n",
    "        return 1\n",
    "\n",
    "    api_uri = \"https://api.fixer.io/latest?base={}&symbols={}\".format(base_currency, target_currency)\n",
    "    api_response = requests.get(api_uri)\n",
    "\n",
    "    if api_response.status_code == 200:\n",
    "        return api_response.json()[\"rates\"][target_currency]\n"
   ]
  },
  {
   "cell_type": "code",
   "execution_count": 20,
   "metadata": {
    "scrolled": true
   },
   "outputs": [
    {
     "name": "stdout",
     "output_type": "stream",
     "text": [
      "Current Location: syracuse\n",
      "Input Home Currency Symbol:AUD\n",
      "Currency Found\n",
      "Min Price Range (0-4): 2\n",
      "Max Price: 3\n",
      "The Mission Restaurant \n",
      " 304 E Onondaga St, Syracuse, NY 13202, USA \n",
      " Is Currently Open\n",
      "Prime Steak House \n",
      " 101 E Water St, Syracuse, NY 13202, USA \n",
      " Is Currently Closed\n",
      "Lemon Grass Restaurant \n",
      " 238 W Jefferson St, Syracuse, NY 13202, USA \n",
      " Is Currently Closed\n",
      "Kitty Hoyne's Irish Pub \n",
      " 301 W Fayette St, Syracuse, NY 13202, USA \n",
      " Is Currently Open\n",
      "Phoebe's Restaurant & Coffee Lounge \n",
      " 900 E Genesee St, Syracuse, NY 13210, USA \n",
      " Is Currently Open\n",
      "Current Location: exit\n",
      "Input Home Currency Symbol:\n",
      "Currency Not Found Try Again\n",
      "Current Location: \n"
     ]
    },
    {
     "ename": "HTTPError",
     "evalue": "HTTP Error: 400",
     "output_type": "error",
     "traceback": [
      "\u001b[0;31m---------------------------------------------------------------------------\u001b[0m",
      "\u001b[0;31mHTTPError\u001b[0m                                 Traceback (most recent call last)",
      "\u001b[0;32m<ipython-input-20-77443d4ed30e>\u001b[0m in \u001b[0;36m<module>\u001b[0;34m()\u001b[0m\n\u001b[1;32m      4\u001b[0m \u001b[0;32mwhile\u001b[0m\u001b[0;34m(\u001b[0m\u001b[0;32mTrue\u001b[0m\u001b[0;34m)\u001b[0m\u001b[0;34m:\u001b[0m\u001b[0;34m\u001b[0m\u001b[0m\n\u001b[1;32m      5\u001b[0m     \u001b[0muser_location\u001b[0m \u001b[0;34m=\u001b[0m \u001b[0minput\u001b[0m\u001b[0;34m(\u001b[0m\u001b[0;34m'Current Location: '\u001b[0m\u001b[0;34m)\u001b[0m\u001b[0;34m\u001b[0m\u001b[0m\n\u001b[0;32m----> 6\u001b[0;31m     \u001b[0mgeocode_results\u001b[0m \u001b[0;34m=\u001b[0m \u001b[0mgmaps\u001b[0m\u001b[0;34m.\u001b[0m\u001b[0mgeocode\u001b[0m\u001b[0;34m(\u001b[0m\u001b[0muser_location\u001b[0m\u001b[0;34m)\u001b[0m\u001b[0;34m\u001b[0m\u001b[0m\n\u001b[0m\u001b[1;32m      7\u001b[0m     \u001b[0mlocation_lat\u001b[0m \u001b[0;34m=\u001b[0m \u001b[0mgeocode_results\u001b[0m\u001b[0;34m[\u001b[0m\u001b[0;36m0\u001b[0m\u001b[0;34m]\u001b[0m\u001b[0;34m[\u001b[0m\u001b[0;34m'geometry'\u001b[0m\u001b[0;34m]\u001b[0m\u001b[0;34m[\u001b[0m\u001b[0;34m'location'\u001b[0m\u001b[0;34m]\u001b[0m\u001b[0;34m[\u001b[0m\u001b[0;34m'lat'\u001b[0m\u001b[0;34m]\u001b[0m\u001b[0;34m\u001b[0m\u001b[0m\n\u001b[1;32m      8\u001b[0m     \u001b[0mlocation_lng\u001b[0m \u001b[0;34m=\u001b[0m \u001b[0mgeocode_results\u001b[0m\u001b[0;34m[\u001b[0m\u001b[0;36m0\u001b[0m\u001b[0;34m]\u001b[0m\u001b[0;34m[\u001b[0m\u001b[0;34m'geometry'\u001b[0m\u001b[0;34m]\u001b[0m\u001b[0;34m[\u001b[0m\u001b[0;34m'location'\u001b[0m\u001b[0;34m]\u001b[0m\u001b[0;34m[\u001b[0m\u001b[0;34m'lng'\u001b[0m\u001b[0;34m]\u001b[0m\u001b[0;34m\u001b[0m\u001b[0m\n",
      "\u001b[0;32m~/miniconda3/lib/python3.6/site-packages/googlemaps/client.py\u001b[0m in \u001b[0;36mwrapper\u001b[0;34m(*args, **kwargs)\u001b[0m\n\u001b[1;32m    354\u001b[0m     \u001b[0;32mdef\u001b[0m \u001b[0mwrapper\u001b[0m\u001b[0;34m(\u001b[0m\u001b[0;34m*\u001b[0m\u001b[0margs\u001b[0m\u001b[0;34m,\u001b[0m \u001b[0;34m**\u001b[0m\u001b[0mkwargs\u001b[0m\u001b[0;34m)\u001b[0m\u001b[0;34m:\u001b[0m\u001b[0;34m\u001b[0m\u001b[0m\n\u001b[1;32m    355\u001b[0m         \u001b[0margs\u001b[0m\u001b[0;34m[\u001b[0m\u001b[0;36m0\u001b[0m\u001b[0;34m]\u001b[0m\u001b[0;34m.\u001b[0m\u001b[0m_extra_params\u001b[0m \u001b[0;34m=\u001b[0m \u001b[0mkwargs\u001b[0m\u001b[0;34m.\u001b[0m\u001b[0mpop\u001b[0m\u001b[0;34m(\u001b[0m\u001b[0;34m\"extra_params\"\u001b[0m\u001b[0;34m,\u001b[0m \u001b[0;32mNone\u001b[0m\u001b[0;34m)\u001b[0m\u001b[0;34m\u001b[0m\u001b[0m\n\u001b[0;32m--> 356\u001b[0;31m         \u001b[0mresult\u001b[0m \u001b[0;34m=\u001b[0m \u001b[0mfunc\u001b[0m\u001b[0;34m(\u001b[0m\u001b[0;34m*\u001b[0m\u001b[0margs\u001b[0m\u001b[0;34m,\u001b[0m \u001b[0;34m**\u001b[0m\u001b[0mkwargs\u001b[0m\u001b[0;34m)\u001b[0m\u001b[0;34m\u001b[0m\u001b[0m\n\u001b[0m\u001b[1;32m    357\u001b[0m         \u001b[0;32mtry\u001b[0m\u001b[0;34m:\u001b[0m\u001b[0;34m\u001b[0m\u001b[0m\n\u001b[1;32m    358\u001b[0m             \u001b[0;32mdel\u001b[0m \u001b[0margs\u001b[0m\u001b[0;34m[\u001b[0m\u001b[0;36m0\u001b[0m\u001b[0;34m]\u001b[0m\u001b[0;34m.\u001b[0m\u001b[0m_extra_params\u001b[0m\u001b[0;34m\u001b[0m\u001b[0m\n",
      "\u001b[0;32m~/miniconda3/lib/python3.6/site-packages/googlemaps/geocoding.py\u001b[0m in \u001b[0;36mgeocode\u001b[0;34m(client, address, components, bounds, region, language)\u001b[0m\n\u001b[1;32m     66\u001b[0m         \u001b[0mparams\u001b[0m\u001b[0;34m[\u001b[0m\u001b[0;34m\"language\"\u001b[0m\u001b[0;34m]\u001b[0m \u001b[0;34m=\u001b[0m \u001b[0mlanguage\u001b[0m\u001b[0;34m\u001b[0m\u001b[0m\n\u001b[1;32m     67\u001b[0m \u001b[0;34m\u001b[0m\u001b[0m\n\u001b[0;32m---> 68\u001b[0;31m     \u001b[0;32mreturn\u001b[0m \u001b[0mclient\u001b[0m\u001b[0;34m.\u001b[0m\u001b[0m_request\u001b[0m\u001b[0;34m(\u001b[0m\u001b[0;34m\"/maps/api/geocode/json\"\u001b[0m\u001b[0;34m,\u001b[0m \u001b[0mparams\u001b[0m\u001b[0;34m)\u001b[0m\u001b[0;34m[\u001b[0m\u001b[0;34m\"results\"\u001b[0m\u001b[0;34m]\u001b[0m\u001b[0;34m\u001b[0m\u001b[0m\n\u001b[0m\u001b[1;32m     69\u001b[0m \u001b[0;34m\u001b[0m\u001b[0m\n\u001b[1;32m     70\u001b[0m \u001b[0;34m\u001b[0m\u001b[0m\n",
      "\u001b[0;32m~/miniconda3/lib/python3.6/site-packages/googlemaps/client.py\u001b[0m in \u001b[0;36m_request\u001b[0;34m(self, url, params, first_request_time, retry_counter, base_url, accepts_clientid, extract_body, requests_kwargs, post_json)\u001b[0m\n\u001b[1;32m    251\u001b[0m                 \u001b[0mresult\u001b[0m \u001b[0;34m=\u001b[0m \u001b[0mextract_body\u001b[0m\u001b[0;34m(\u001b[0m\u001b[0mresponse\u001b[0m\u001b[0;34m)\u001b[0m\u001b[0;34m\u001b[0m\u001b[0m\n\u001b[1;32m    252\u001b[0m             \u001b[0;32melse\u001b[0m\u001b[0;34m:\u001b[0m\u001b[0;34m\u001b[0m\u001b[0m\n\u001b[0;32m--> 253\u001b[0;31m                 \u001b[0mresult\u001b[0m \u001b[0;34m=\u001b[0m \u001b[0mself\u001b[0m\u001b[0;34m.\u001b[0m\u001b[0m_get_body\u001b[0m\u001b[0;34m(\u001b[0m\u001b[0mresponse\u001b[0m\u001b[0;34m)\u001b[0m\u001b[0;34m\u001b[0m\u001b[0m\n\u001b[0m\u001b[1;32m    254\u001b[0m             \u001b[0mself\u001b[0m\u001b[0;34m.\u001b[0m\u001b[0msent_times\u001b[0m\u001b[0;34m.\u001b[0m\u001b[0mappend\u001b[0m\u001b[0;34m(\u001b[0m\u001b[0mtime\u001b[0m\u001b[0;34m.\u001b[0m\u001b[0mtime\u001b[0m\u001b[0;34m(\u001b[0m\u001b[0;34m)\u001b[0m\u001b[0;34m)\u001b[0m\u001b[0;34m\u001b[0m\u001b[0m\n\u001b[1;32m    255\u001b[0m             \u001b[0;32mreturn\u001b[0m \u001b[0mresult\u001b[0m\u001b[0;34m\u001b[0m\u001b[0m\n",
      "\u001b[0;32m~/miniconda3/lib/python3.6/site-packages/googlemaps/client.py\u001b[0m in \u001b[0;36m_get_body\u001b[0;34m(self, response)\u001b[0m\n\u001b[1;32m    265\u001b[0m     \u001b[0;32mdef\u001b[0m \u001b[0m_get_body\u001b[0m\u001b[0;34m(\u001b[0m\u001b[0mself\u001b[0m\u001b[0;34m,\u001b[0m \u001b[0mresponse\u001b[0m\u001b[0;34m)\u001b[0m\u001b[0;34m:\u001b[0m\u001b[0;34m\u001b[0m\u001b[0m\n\u001b[1;32m    266\u001b[0m         \u001b[0;32mif\u001b[0m \u001b[0mresponse\u001b[0m\u001b[0;34m.\u001b[0m\u001b[0mstatus_code\u001b[0m \u001b[0;34m!=\u001b[0m \u001b[0;36m200\u001b[0m\u001b[0;34m:\u001b[0m\u001b[0;34m\u001b[0m\u001b[0m\n\u001b[0;32m--> 267\u001b[0;31m             \u001b[0;32mraise\u001b[0m \u001b[0mgooglemaps\u001b[0m\u001b[0;34m.\u001b[0m\u001b[0mexceptions\u001b[0m\u001b[0;34m.\u001b[0m\u001b[0mHTTPError\u001b[0m\u001b[0;34m(\u001b[0m\u001b[0mresponse\u001b[0m\u001b[0;34m.\u001b[0m\u001b[0mstatus_code\u001b[0m\u001b[0;34m)\u001b[0m\u001b[0;34m\u001b[0m\u001b[0m\n\u001b[0m\u001b[1;32m    268\u001b[0m \u001b[0;34m\u001b[0m\u001b[0m\n\u001b[1;32m    269\u001b[0m         \u001b[0mbody\u001b[0m \u001b[0;34m=\u001b[0m \u001b[0mresponse\u001b[0m\u001b[0;34m.\u001b[0m\u001b[0mjson\u001b[0m\u001b[0;34m(\u001b[0m\u001b[0;34m)\u001b[0m\u001b[0;34m\u001b[0m\u001b[0m\n",
      "\u001b[0;31mHTTPError\u001b[0m: HTTP Error: 400"
     ]
    }
   ],
   "source": [
    "exchange_rates = get_exchange_rates()\n",
    "gmaps = googlemaps.Client(key=cred.google_maps_api_key())\n",
    "\n",
    "while(True):\n",
    "    user_location = input('Current Location: ')\n",
    "    geocode_results = gmaps.geocode(user_location)\n",
    "    location_lat = geocode_results[0]['geometry']['location']['lat']\n",
    "    location_lng = geocode_results[0]['geometry']['location']['lng']\n",
    "#     print(geocode_results)\n",
    "    user_home_currency = input('Input Home Currency Symbol:')\n",
    "    if (user_home_currency == 'Exit'):\n",
    "        print(\"Exiting Program\")\n",
    "        break\n",
    "    elif (user_home_currency in exchange_rates['rates'].keys()):\n",
    "        print(\"Currency Found\")\n",
    "        rate = get_exchange_rate(user_home_currency, 'USD')\n",
    "#         print(rate)\n",
    "        min_price = input('Min Price Range (0-4): ')\n",
    "        max_price = input('Max Price: ')\n",
    "        place_results = gmaps.places('restaurant',location=(location_lat,location_lng),radius=30,min_price=min_price,max_price=max_price)\n",
    "        address = []\n",
    "        names = []\n",
    "        opens = []\n",
    "        for i in range(5):\n",
    "            street_address = place_results['results'][i]['formatted_address']\n",
    "            address.append(street_address)\n",
    "            name = place_results['results'][i]['name']\n",
    "            names.append(name)\n",
    "            is_open = place_results['results'][i]['opening_hours']['open_now']\n",
    "            opens.append(is_open)\n",
    "            if(is_open == True):\n",
    "                print(name, \"\\n\", street_address, '\\n', 'Is Currently Open')\n",
    "            else:\n",
    "                print(name, \"\\n\", street_address, '\\n', 'Is Currently Closed')\n",
    "            \n",
    "    else:\n",
    "        print(\"Currency Not Found Try Again\")\n",
    "        continue"
   ]
  },
  {
   "cell_type": "code",
   "execution_count": null,
   "metadata": {},
   "outputs": [],
   "source": []
  },
  {
   "cell_type": "code",
   "execution_count": null,
   "metadata": {},
   "outputs": [],
   "source": [
    "#Email info = IST256Final@gmail.com Password = ThisIsMyPassword"
   ]
  },
  {
   "cell_type": "code",
   "execution_count": 21,
   "metadata": {},
   "outputs": [
    {
     "name": "stdout",
     "output_type": "stream",
     "text": [
      "Current Location Or Exit: Syracuse, NY\n",
      "Input Home Currency Symbol:AUD\n",
      "How much do you want to spend of your home currency?35\n",
      "Jimmy John's \n",
      " 105 W Fayette St, Syracuse, NY 13202, USA \n",
      " Is Currently Open\n",
      "Joe's Deli \n",
      " 250 S Clinton St # 3, Syracuse, NY 13202, USA \n",
      " Is Currently Closed\n",
      "Original Italian Pizza \n",
      " 489 James St # 1, Syracuse, NY 13203, USA \n",
      " Is Currently Open\n",
      "Byblos Mediterranean Cafe \n",
      " 223 N Clinton St, Syracuse, NY 13202, USA \n",
      " Is Currently Open\n",
      "SUBWAY®Restaurants \n",
      " 357 S Warren St Suite 15, Syracuse, NY 13202, USA \n",
      " Is Currently Open\n",
      "Current Location Or Exit: exit\n",
      "Exiting Program\n"
     ]
    }
   ],
   "source": [
    "exchange_rates = get_exchange_rates()\n",
    "gmaps = googlemaps.Client(key=cred.google_maps_api_key())\n",
    "\n",
    "while(True):\n",
    "    user_location = input('Current Location Or Exit: ').title()\n",
    "    geocode_results = gmaps.geocode(user_location)\n",
    "    location_lat = geocode_results[0]['geometry']['location']['lat']\n",
    "    location_lng = geocode_results[0]['geometry']['location']['lng']\n",
    "    if (user_location == 'Exit'):\n",
    "        print(\"Exiting Program\")\n",
    "        break\n",
    "    else:\n",
    "        user_home_currency = input('Input Home Currency Symbol:').upper()\n",
    "        if(user_home_currency in exchange_rates['rates'].keys()):\n",
    "            try:\n",
    "                spending_amount = float(input('How much do you want to spend of your home currency?'))\n",
    "            except:\n",
    "                print(\"Input was not a number\")\n",
    "                continue\n",
    "            rate = get_exchange_rate(user_home_currency, 'USD')\n",
    "            amount = float(spending_amount)*float(rate)\n",
    "            address = []\n",
    "            if(amount >= 200):\n",
    "                max_price = 4\n",
    "            elif(amount >= 150):\n",
    "                max_price = 3\n",
    "            elif(amount >= 100):\n",
    "                max_price = 2\n",
    "            elif(amount <= 50):\n",
    "                max_price = 1\n",
    "            else:\n",
    "                max_price=0\n",
    "            \n",
    "            if(max_price != 0):\n",
    "                min_price = max_price-1\n",
    "            elif(max_price == 4):\n",
    "                min_price = 4\n",
    "            else:\n",
    "                min_price = 0\n",
    "            place_results = gmaps.places('restaurant',location=(location_lat,location_lng),radius=5,min_price=min_price,max_price=max_price)\n",
    "\n",
    "            for i in range(5):\n",
    "                street_address = place_results['results'][i]['formatted_address']\n",
    "                address.append(street_address)\n",
    "                name = place_results['results'][i]['name']\n",
    "                names.append(name)\n",
    "                is_open = place_results['results'][i]['opening_hours']['open_now']\n",
    "                opens.append(is_open)\n",
    "                if(is_open == True):\n",
    "                    print(name, \"\\n\", street_address, '\\n', 'Is Currently Open')\n",
    "                else:\n",
    "                    print(name, \"\\n\", street_address, '\\n', 'Is Currently Closed')\n",
    "        else:\n",
    "            print(\"Currency Not Found. Try Again\")\n",
    "            continue"
   ]
  },
  {
   "cell_type": "code",
   "execution_count": 19,
   "metadata": {},
   "outputs": [
    {
     "name": "stdout",
     "output_type": "stream",
     "text": [
      "Current Location Or Exit: syracuse\n",
      "Input Home Currency Symbol:aud\n",
      "How much do you want to spend of your home currency?25\n"
     ]
    },
    {
     "ename": "NameError",
     "evalue": "name 'address' is not defined",
     "output_type": "error",
     "traceback": [
      "\u001b[0;31m---------------------------------------------------------------------------\u001b[0m",
      "\u001b[0;31mNameError\u001b[0m                                 Traceback (most recent call last)",
      "\u001b[0;32m<ipython-input-19-5857aa4df4ac>\u001b[0m in \u001b[0;36m<module>\u001b[0;34m()\u001b[0m\n\u001b[1;32m     41\u001b[0m             \u001b[0;32mfor\u001b[0m \u001b[0mi\u001b[0m \u001b[0;32min\u001b[0m \u001b[0mrange\u001b[0m\u001b[0;34m(\u001b[0m\u001b[0;36m5\u001b[0m\u001b[0;34m)\u001b[0m\u001b[0;34m:\u001b[0m\u001b[0;34m\u001b[0m\u001b[0m\n\u001b[1;32m     42\u001b[0m                 \u001b[0mstreet_address\u001b[0m \u001b[0;34m=\u001b[0m \u001b[0mplace_results\u001b[0m\u001b[0;34m[\u001b[0m\u001b[0;34m'results'\u001b[0m\u001b[0;34m]\u001b[0m\u001b[0;34m[\u001b[0m\u001b[0mi\u001b[0m\u001b[0;34m]\u001b[0m\u001b[0;34m[\u001b[0m\u001b[0;34m'formatted_address'\u001b[0m\u001b[0;34m]\u001b[0m\u001b[0;34m\u001b[0m\u001b[0m\n\u001b[0;32m---> 43\u001b[0;31m                 \u001b[0maddress\u001b[0m\u001b[0;34m.\u001b[0m\u001b[0mappend\u001b[0m\u001b[0;34m(\u001b[0m\u001b[0mstreet_address\u001b[0m\u001b[0;34m)\u001b[0m\u001b[0;34m\u001b[0m\u001b[0m\n\u001b[0m\u001b[1;32m     44\u001b[0m                 \u001b[0mname\u001b[0m \u001b[0;34m=\u001b[0m \u001b[0mplace_results\u001b[0m\u001b[0;34m[\u001b[0m\u001b[0;34m'results'\u001b[0m\u001b[0;34m]\u001b[0m\u001b[0;34m[\u001b[0m\u001b[0mi\u001b[0m\u001b[0;34m]\u001b[0m\u001b[0;34m[\u001b[0m\u001b[0;34m'name'\u001b[0m\u001b[0;34m]\u001b[0m\u001b[0;34m\u001b[0m\u001b[0m\n\u001b[1;32m     45\u001b[0m                 \u001b[0mnames\u001b[0m\u001b[0;34m.\u001b[0m\u001b[0mappend\u001b[0m\u001b[0;34m(\u001b[0m\u001b[0mname\u001b[0m\u001b[0;34m)\u001b[0m\u001b[0;34m\u001b[0m\u001b[0m\n",
      "\u001b[0;31mNameError\u001b[0m: name 'address' is not defined"
     ]
    }
   ],
   "source": [
    "exchange_rates = get_exchange_rates()\n",
    "gmaps = googlemaps.Client(key=cred.google_maps_api_key())\n",
    "\n",
    "while(True):\n",
    "    user_location = input('Current Location Or Exit: ').title()\n",
    "    geocode_results = gmaps.geocode(user_location)\n",
    "    location_lat = geocode_results[0]['geometry']['location']['lat']\n",
    "    location_lng = geocode_results[0]['geometry']['location']['lng']\n",
    "    if (user_location == 'Exit'):\n",
    "        print(\"Exiting Program\")\n",
    "        break\n",
    "    else:\n",
    "        user_home_currency = input('Input Home Currency Symbol:').upper()\n",
    "        if(user_home_currency in exchange_rates['rates'].keys()):\n",
    "            try:\n",
    "                spending_amount = float(input('How much do you want to spend of your home currency?'))\n",
    "            except:\n",
    "                print(\"Input was not a number\")\n",
    "                continue\n",
    "            rate = get_exchange_rate(user_home_currency, 'USD')\n",
    "            amount = float(spending_amount)*float(rate)\n",
    "            if(amount >= 200):\n",
    "                max_price = 4\n",
    "            elif(amount >= 150):\n",
    "                max_price = 3\n",
    "            elif(amount >= 100):\n",
    "                max_price = 2\n",
    "            elif(amount <= 50):\n",
    "                max_price = 1\n",
    "            else:\n",
    "                max_price=0\n",
    "            \n",
    "            if(max_price != 0):\n",
    "                min_price = max_price-1\n",
    "            elif(max_price == 4):\n",
    "                min_price = 4\n",
    "            else:\n",
    "                min_price = 0\n",
    "            place_results = gmaps.places('restaurant',location=(location_lat,location_lng),radius=5,min_price=min_price,max_price=max_price)\n",
    "\n",
    "            for i in range(5):\n",
    "                street_address = place_results['results'][i]['formatted_address']\n",
    "                address.append(street_address)\n",
    "                name = place_results['results'][i]['name']\n",
    "                names.append(name)\n",
    "                is_open = place_results['results'][i]['opening_hours']['open_now']\n",
    "                opens.append(is_open)\n",
    "                if(is_open == True):\n",
    "                    print(name, \"\\n\", street_address, '\\n', 'Is Currently Open')\n",
    "                else:\n",
    "                    print(name, \"\\n\", street_address, '\\n', 'Is Currently Closed')\n",
    "        else:\n",
    "            print(\"Currency Not Found. Try Again\")\n",
    "            continue"
   ]
  },
  {
   "cell_type": "code",
   "execution_count": 6,
   "metadata": {},
   "outputs": [
    {
     "ename": "NameError",
     "evalue": "name 'address' is not defined",
     "output_type": "error",
     "traceback": [
      "\u001b[0;31m---------------------------------------------------------------------------\u001b[0m",
      "\u001b[0;31mNameError\u001b[0m                                 Traceback (most recent call last)",
      "\u001b[0;32m<ipython-input-6-cee9f58e23ff>\u001b[0m in \u001b[0;36m<module>\u001b[0;34m()\u001b[0m\n\u001b[0;32m----> 1\u001b[0;31m \u001b[0maddress\u001b[0m\u001b[0;34m\u001b[0m\u001b[0m\n\u001b[0m",
      "\u001b[0;31mNameError\u001b[0m: name 'address' is not defined"
     ]
    }
   ],
   "source": [
    "address"
   ]
  },
  {
   "cell_type": "code",
   "execution_count": 9,
   "metadata": {},
   "outputs": [
    {
     "data": {
      "text/plain": [
       "['The Mission Restaurant',\n",
       " 'Prime Steak House',\n",
       " 'Lemon Grass Restaurant',\n",
       " 'Original Italian Pizza',\n",
       " \"Kitty Hoyne's Irish Pub\"]"
      ]
     },
     "execution_count": 9,
     "metadata": {},
     "output_type": "execute_result"
    }
   ],
   "source": [
    "names"
   ]
  },
  {
   "cell_type": "code",
   "execution_count": 10,
   "metadata": {},
   "outputs": [
    {
     "data": {
      "text/plain": [
       "[False, False, False, True, True]"
      ]
     },
     "execution_count": 10,
     "metadata": {},
     "output_type": "execute_result"
    }
   ],
   "source": [
    "opens"
   ]
  },
  {
   "cell_type": "code",
   "execution_count": null,
   "metadata": {},
   "outputs": [],
   "source": []
  }
 ],
 "metadata": {
  "kernelspec": {
   "display_name": "Python 3",
   "language": "python",
   "name": "python3"
  },
  "language_info": {
   "codemirror_mode": {
    "name": "ipython",
    "version": 3
   },
   "file_extension": ".py",
   "mimetype": "text/x-python",
   "name": "python",
   "nbconvert_exporter": "python",
   "pygments_lexer": "ipython3",
   "version": "3.6.3"
  }
 },
 "nbformat": 4,
 "nbformat_minor": 2
}
